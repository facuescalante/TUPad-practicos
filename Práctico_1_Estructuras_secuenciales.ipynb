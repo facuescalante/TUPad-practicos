{
  "nbformat": 4,
  "nbformat_minor": 0,
  "metadata": {
    "colab": {
      "provenance": [],
      "authorship_tag": "ABX9TyMLp8FwP3vJk6FOWAeo2w2Z",
      "include_colab_link": true
    },
    "kernelspec": {
      "name": "python3",
      "display_name": "Python 3"
    },
    "language_info": {
      "name": "python"
    }
  },
  "cells": [
    {
      "cell_type": "markdown",
      "metadata": {
        "id": "view-in-github",
        "colab_type": "text"
      },
      "source": [
        "<a href=\"https://colab.research.google.com/github/facuescalante/TUPad-practicos/blob/programaci%C3%B3n-1/Pr%C3%A1ctico_1_Estructuras_secuenciales.ipynb\" target=\"_parent\"><img src=\"https://colab.research.google.com/assets/colab-badge.svg\" alt=\"Open In Colab\"/></a>"
      ]
    },
    {
      "cell_type": "markdown",
      "source": [
        "1) Crear un programa que imprima por pantalla el mensaje: “Hola Mundo!”."
      ],
      "metadata": {
        "id": "-nns-Mxdv-N6"
      }
    },
    {
      "cell_type": "code",
      "source": [
        "print(\"Hola Mundo!\")"
      ],
      "metadata": {
        "colab": {
          "base_uri": "https://localhost:8080/"
        },
        "id": "yzYxtWenwFbU",
        "outputId": "959ab926-02f3-4aaa-dde2-342ccfbbc160"
      },
      "execution_count": null,
      "outputs": [
        {
          "output_type": "stream",
          "name": "stdout",
          "text": [
            "Hola Mundo!\n"
          ]
        }
      ]
    },
    {
      "cell_type": "markdown",
      "source": [
        "2) Crear un programa que pida al usuario su nombre e imprima por pantalla un saludo usando\n",
        "el nombre ingresado. Por ejemplo: si el usuario ingresa “Marcos”, el programa debe imprimir\n",
        "por pantalla “Hola Marcos!”. Consejo: esto será más sencillo si utilizas print(f…) para\n",
        "realizar la impresión por pantalla."
      ],
      "metadata": {
        "id": "QlP6LIX7w9Z4"
      }
    },
    {
      "cell_type": "code",
      "source": [
        "nombre = input(\"Ingrese su nombre: \")\n",
        "print(f\"Hola {nombre}!\")"
      ],
      "metadata": {
        "colab": {
          "base_uri": "https://localhost:8080/"
        },
        "id": "ppwCF4Gpw_Lg",
        "outputId": "8e876ae5-51b1-4e41-8920-028a15eecf89"
      },
      "execution_count": null,
      "outputs": [
        {
          "output_type": "stream",
          "name": "stdout",
          "text": [
            "Ingrese su nombre: facundo\n",
            "Hola facundo!\n"
          ]
        }
      ]
    },
    {
      "cell_type": "markdown",
      "source": [
        "3) Crear un programa que pida al usuario su nombre, apellido, edad y lugar de residencia e\n",
        "imprima por pantalla una oración con los datos ingresados. Por ejemplo: si el usuario ingresa\n",
        "“Marcos”, “Pérez”, “30” y “Argentina”, el programa debe imprimir “Soy Marcos Pérez, tengo 30\n",
        "años y vivo en Argentina”. Consejo: esto será más sencillo si utilizas print(f…) para realizar\n",
        "la impresión por pantalla."
      ],
      "metadata": {
        "id": "bNhlo4q_xo-P"
      }
    },
    {
      "cell_type": "code",
      "source": [
        "nombre = input(\"Ingrese su nombre: \")\n",
        "apellido = input(\"Ingrese su apellido: \")\n",
        "edad = input(\"Ingrese su edad: \")\n",
        "lugar = input(\"Ingrese su lugar de residencia: \")\n",
        "print(f\"Soy {nombre} {apellido}, tengo {edad} años y vivo en {lugar}.\")"
      ],
      "metadata": {
        "colab": {
          "base_uri": "https://localhost:8080/"
        },
        "id": "xsqk4Gi_xqE-",
        "outputId": "e3491d39-25fd-4a5c-f3b8-f496d6036052"
      },
      "execution_count": null,
      "outputs": [
        {
          "output_type": "stream",
          "name": "stdout",
          "text": [
            "Ingrese su nombre: facundo\n",
            "Ingrese su apellido: escalante\n",
            "Ingrese su edad: 39\n",
            "Ingrese su lugar de residencia: Barcelona\n",
            "Soy facundo escalante, tengo 39 años y vivo en Barcelona.\n"
          ]
        }
      ]
    },
    {
      "cell_type": "markdown",
      "source": [
        "4) Crear un programa que pida al usuario el radio de un círculo e imprima por pantalla su área y\n",
        "su perímetro."
      ],
      "metadata": {
        "id": "ldomR2RJyiiF"
      }
    },
    {
      "cell_type": "code",
      "source": [
        "radio = float(input(\"Ingrese el radio del círculo: \"))\n",
        "area = 3.14 * radio ** 2\n",
        "perimetro = 2 * 3.14 * radio\n",
        "print(f\"El área del círculo es {area} y el perímetro es {perimetro}.\")"
      ],
      "metadata": {
        "colab": {
          "base_uri": "https://localhost:8080/"
        },
        "id": "pTIDZT_Zyhut",
        "outputId": "637829f2-092a-4a1d-9a04-78983199f274"
      },
      "execution_count": null,
      "outputs": [
        {
          "output_type": "stream",
          "name": "stdout",
          "text": [
            "Ingrese el radio del círculo: 4\n",
            "El área del círculo es 50.24 y el perímetro es 25.12.\n"
          ]
        }
      ]
    },
    {
      "cell_type": "markdown",
      "source": [
        "5) Crear un programa que pida al usuario una cantidad de segundos e imprima por pantalla a\n",
        "cuántas horas equivale."
      ],
      "metadata": {
        "id": "OMarVs8lzT4D"
      }
    },
    {
      "cell_type": "code",
      "source": [
        "segundos = int(input(\"Ingrese la cantidad de segundos: \"))\n",
        "horas = segundos / 3600\n",
        "print(f\"{segundos} segundos equivalen a {horas} horas.\")"
      ],
      "metadata": {
        "colab": {
          "base_uri": "https://localhost:8080/"
        },
        "id": "aBmwQMj_zVF7",
        "outputId": "2f83b206-341c-46dd-aafc-6af36a5ac32a"
      },
      "execution_count": null,
      "outputs": [
        {
          "output_type": "stream",
          "name": "stdout",
          "text": [
            "Ingrese la cantidad de segundos: 8000\n",
            "8000 segundos equivalen a 2.2222222222222223 horas.\n"
          ]
        }
      ]
    },
    {
      "cell_type": "markdown",
      "source": [
        "6) Crear un programa que pida al usuario un número e imprima por pantalla la tabla de\n",
        "multiplicar de dicho número."
      ],
      "metadata": {
        "id": "aw32HQuCz7fa"
      }
    },
    {
      "cell_type": "code",
      "source": [
        "numero= int(input(\"Ingrese un numero: \"))\n",
        "for i in range(1,11):\n",
        "    print(f\"{numero} x {i} = {numero * i}\")\n"
      ],
      "metadata": {
        "colab": {
          "base_uri": "https://localhost:8080/"
        },
        "id": "-DhL4MEk2N09",
        "outputId": "f17ae316-379b-439d-a81a-18fb1ddb11d2"
      },
      "execution_count": null,
      "outputs": [
        {
          "output_type": "stream",
          "name": "stdout",
          "text": [
            "Ingrese un numero: 5\n",
            "5 x 1 = 5\n",
            "5 x 2 = 10\n",
            "5 x 3 = 15\n",
            "5 x 4 = 20\n",
            "5 x 5 = 25\n",
            "5 x 6 = 30\n",
            "5 x 7 = 35\n",
            "5 x 8 = 40\n",
            "5 x 9 = 45\n",
            "5 x 10 = 50\n"
          ]
        }
      ]
    },
    {
      "cell_type": "markdown",
      "source": [
        "7) Crear un programa que pida al usuario dos números enteros distintos del 0 y muestre por\n",
        "pantalla el resultado de sumarlos, dividirlos, multiplicarlos y restarlos."
      ],
      "metadata": {
        "id": "o6ER150727M8"
      }
    },
    {
      "cell_type": "code",
      "source": [
        "num1= int(input(\"Ingrese el primer numero: \"))\n",
        "num2= int(input(\"Ingrese el segundo numero: \"))\n",
        "suma= num1 + num2\n",
        "division= num1 / num2\n",
        "multiplicacion= num1 * num2\n",
        "resta= num1 - num2\n",
        "print(\"La suma es: \", suma)\n",
        "print(\"La division es: \", division)\n",
        "print(\"La multiplicacion es: \", multiplicacion)\n",
        "print(\"La resta es: \", resta)"
      ],
      "metadata": {
        "colab": {
          "base_uri": "https://localhost:8080/"
        },
        "id": "-BK73GTx28CT",
        "outputId": "6961ea0f-88f6-4e2a-e358-6392e87f5017"
      },
      "execution_count": null,
      "outputs": [
        {
          "output_type": "stream",
          "name": "stdout",
          "text": [
            "Ingrese un numero: 3\n",
            "Ingrese un numero: 2\n",
            "La suma es:  5\n",
            "La division es:  1.5\n",
            "La multiplicacion es:  6\n",
            "La resta es:  1\n"
          ]
        }
      ]
    },
    {
      "cell_type": "markdown",
      "source": [
        "8) Crear un programa que pida al usuario su altura y su peso e imprima por pantalla su índice\n",
        "de masa corporal. Tener en cuenta que el índice de masa corporal se calcula del siguiente\n",
        "modo:  \n"
      ],
      "metadata": {
        "id": "j4mYfbUr3XZy"
      }
    },
    {
      "cell_type": "code",
      "source": [
        "altura = int(input(\"Ingrese su altura en centímetros: \"))\n",
        "peso_kg = float(input(\"Ingrese su peso en kilogramos: \"))\n",
        "altura_m = altura / 100  # altura a metros\n",
        "imc = peso_kg / altura_m ** 2\n",
        "print(\"Su índice de masa corporal es:\", round(imc, 2))"
      ],
      "metadata": {
        "colab": {
          "base_uri": "https://localhost:8080/"
        },
        "id": "Lntn0Wts3bIS",
        "outputId": "b66c71b7-8df6-4bd1-f09d-5b4ad53f3886"
      },
      "execution_count": null,
      "outputs": [
        {
          "output_type": "stream",
          "name": "stdout",
          "text": [
            "Ingrese su altura en centímetros: 170\n",
            "Ingrese su peso en kilogramos: 66.3\n",
            "Su índice de masa corporal es: 22.94\n"
          ]
        }
      ]
    },
    {
      "cell_type": "markdown",
      "source": [
        " 9) Crear un programa que pida al usuario una temperatura en grados Celsius e imprima por\n",
        "pantalla su equivalente en grados Fahrenheit. Tener en cuenta la siguiente equivalencia:\n",
        "�\n",
        "�𝑒𝑚𝑝𝑒𝑟𝑎𝑡𝑢𝑟𝑎 𝑒𝑛 𝐹𝑎ℎ𝑟𝑒𝑛ℎ𝑒𝑖𝑡 = 9\n",
        " 5\n",
        " . 𝑇𝑒𝑚𝑝𝑒𝑟𝑎𝑡𝑢𝑟𝑎 𝑒𝑛 𝐶𝑒𝑙𝑠𝑖𝑢𝑠   + 32"
      ],
      "metadata": {
        "id": "dHBRJBks5XJO"
      }
    },
    {
      "cell_type": "code",
      "source": [
        "gradcel= int(input(\"Ingrese la temperatura en grados Celsius: \"))\n",
        "gradfah= 9/5 * gradcel + 32\n",
        "print(\"La temperatura en grados Fahrenheit es: \", gradfah)"
      ],
      "metadata": {
        "colab": {
          "base_uri": "https://localhost:8080/"
        },
        "id": "JXfOBmqS5YR_",
        "outputId": "6bb2d34a-8926-42db-9ce4-5c8e254b736f"
      },
      "execution_count": null,
      "outputs": [
        {
          "output_type": "stream",
          "name": "stdout",
          "text": [
            "Ingrese la temperatura en grados Celsius: 12\n",
            "La temperatura en grados Fahrenheit es:  53.6\n"
          ]
        }
      ]
    },
    {
      "cell_type": "markdown",
      "source": [
        " 10) Crear un programa que pida al usuario  3 números e imprima por pantalla el promedio de\n",
        "dichos números."
      ],
      "metadata": {
        "id": "wGLvQ6kO5p5N"
      }
    },
    {
      "cell_type": "code",
      "source": [
        "num1= int(input(\"Ingrese el primer numero: \"))\n",
        "num2= int(input(\"Ingrese el segundo numero: \"))\n",
        "num3= int(input(\"Ingrese el tercer numero: \"))\n",
        "print(\"El promedio de los numeros es: \", (num1 + num2 + num3) / 3)"
      ],
      "metadata": {
        "colab": {
          "base_uri": "https://localhost:8080/"
        },
        "id": "0yD6hupT5qkG",
        "outputId": "420c0561-29ce-428f-f06e-fb2063e067f3"
      },
      "execution_count": null,
      "outputs": [
        {
          "output_type": "stream",
          "name": "stdout",
          "text": [
            "Ingrese el primer numero: 2\n",
            "Ingrese el segundo numero: 3\n",
            "Ingrese el tercer numero: 2\n",
            "El promedio de los numeros es:  2.3333333333333335\n"
          ]
        }
      ]
    }
  ]
}